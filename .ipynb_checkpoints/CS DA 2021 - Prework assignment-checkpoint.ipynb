{
 "cells": [
  {
   "cell_type": "markdown",
   "metadata": {},
   "source": [
    "# <font color='#9531A9'> NON TECHNICAL SKILLS ASSIGNMENT </font>\n"
   ]
  },
  {
   "cell_type": "markdown",
   "metadata": {},
   "source": [
    "Find an article on anything you like! It could be something you read today, current affairs, a series review - anything. Read through it with a critical thinking eye in mind. (read article a above).  \n",
    "\n",
    "Paste the link here and jot down 4-5 critical questioning thoughts you had while you read it."
   ]
  },
  {
   "cell_type": "markdown",
   "metadata": {},
   "source": [
    "#### write your questions here using markdown\n",
    "\n",
    "[this is the link](https://betterprogramming.pub/why-a-90-discounted-udemy-programming-course-is-still-not-worth-it-aebacbdd884e)\n",
    "\n",
    "1. What is my pespectiveon this as a student who spends sometime watching codes on youtube\n",
    "2. Can this method of learning be made more efficient \n",
    "3. How do I know I am realy learning \n",
    "4. Do I relate to his oponions"
   ]
  },
  {
   "cell_type": "markdown",
   "metadata": {},
   "source": [
    "# <font color='#9531A9'> TECHNICAL SKILLS ASSIGNMENT  </font>\n"
   ]
  },
  {
   "cell_type": "markdown",
   "metadata": {},
   "source": [
    "### Don't worry if you can't get any of these working. We are going to learn step by step! This is just your chance to test things out, play with some code and get into the groove.\n",
    "\n",
    "### Still add your code to the cells (even if it doesn't work) - so we can see if/what's tripping people up."
   ]
  },
  {
   "cell_type": "markdown",
   "metadata": {},
   "source": [
    "### Problem 1: Markdown\n",
    "\n",
    "Write your name in a mix of styles and or colours \n",
    "\n",
    "Insert an image of a hysterical meme"
   ]
  },
  {
   "cell_type": "markdown",
   "metadata": {},
   "source": [
    "# your code here\n",
    "### Name: <font color='#0B610B'> <i>Seiba</i> Abdul <b><u>Rahman</u><b></font>\n",
    "\n",
    "---\n",
    "<img src=\"https://i.redd.it/uj7iwoz160my.jpg\" width=400 height=400 />\n",
    "\n",
    "---"
   ]
  },
  {
   "cell_type": "markdown",
   "metadata": {},
   "source": [
    "<br>"
   ]
  },
  {
   "cell_type": "markdown",
   "metadata": {},
   "source": [
    "### Problem 2: Basic Operations\n"
   ]
  },
  {
   "cell_type": "markdown",
   "metadata": {},
   "source": [
    "You are at Vanessa's Vegan Cafe and you loved it so much you wanna leave a tip. Write a function that takes the amount owed and calculates how much money you pay with an 18% tip. If functions still scare you, just the solution code will do."
   ]
  },
  {
   "cell_type": "code",
   "execution_count": 114,
   "metadata": {},
   "outputs": [
    {
     "data": {
      "text/plain": [
       "354.0"
      ]
     },
     "execution_count": 114,
     "metadata": {},
     "output_type": "execute_result"
    }
   ],
   "source": [
    "# your code here\n",
    "# amount owed is x \n",
    "def myPay(x):\n",
    "    tip = 0.18*x # 18% of amount owed \n",
    "    payamount = x + tip # total pay is amount owed plus tip\n",
    "    return payamount\n",
    "myPay(300)\n",
    "    "
   ]
  },
  {
   "cell_type": "markdown",
   "metadata": {},
   "source": [
    "<br>"
   ]
  },
  {
   "cell_type": "markdown",
   "metadata": {},
   "source": [
    "### Problem 3: Lists"
   ]
  },
  {
   "cell_type": "markdown",
   "metadata": {},
   "source": [
    "I have a fortune cookie that says my lucky numbers are:\n",
    "\n",
    "   [23, 54, 6, 8, 10078, 3]\n",
    "\n",
    "Create a list of my fortune cookie numbers and then create a new list for each of:\n",
    "- replacing the number 6 with 1\n",
    "- the above list in decreasing order\n",
    "- all values greater than 15"
   ]
  },
  {
   "cell_type": "code",
   "execution_count": 13,
   "metadata": {},
   "outputs": [
    {
     "name": "stdout",
     "output_type": "stream",
     "text": [
      "My list: [23, 54, 6, 8, 10078, 3]\n",
      "My list: [23, 54, 1, 8, 10078, 3]\n",
      "My list: [10078, 54, 23, 8, 3, 1]\n",
      "The new lis is: [10078, 54, 23]\n"
     ]
    }
   ],
   "source": [
    "# your code here\n",
    "lucky_numbers = [23, 54, 6, 8, 10078, 3]\n",
    "print(\"My list:\", lucky_numbers)\n",
    "lucky_numbers[2] = 1\n",
    "print(\"My list:\", lucky_numbers)\n",
    "lucky_numbers.sort(reverse=True)\n",
    "print(\"My list:\", lucky_numbers)\n",
    "new_list = []\n",
    "\n",
    "for num in lucky_numbers:\n",
    "    if num > 15:\n",
    "        new_list.append(num)\n",
    "print(\"The new lis is:\", new_list)"
   ]
  },
  {
   "cell_type": "markdown",
   "metadata": {},
   "source": [
    "<br>"
   ]
  },
  {
   "cell_type": "markdown",
   "metadata": {},
   "source": [
    "### Problem 4: Dictionaries"
   ]
  },
  {
   "cell_type": "markdown",
   "metadata": {},
   "source": [
    " Create a dictionary where the keys are the first 3 days of the week and the values\n",
    " are the position of that day in the week.\n",
    "\n",
    " Transform all keys in that dictionary to uppercase\n"
   ]
  },
  {
   "cell_type": "code",
   "execution_count": 17,
   "metadata": {},
   "outputs": [
    {
     "name": "stdout",
     "output_type": "stream",
     "text": [
      "1\n"
     ]
    }
   ],
   "source": [
    "# your code here\n",
    "my_dict = {\"Sunday\":1, \"Monday\":2, \"Tuesday\":3 }\n",
    "print(my_dict[\"Sunday\"])"
   ]
  },
  {
   "cell_type": "markdown",
   "metadata": {},
   "source": [
    "<br>"
   ]
  },
  {
   "cell_type": "markdown",
   "metadata": {},
   "source": [
    "### Problem 5: OPTIONAL EXTRA \n",
    "\n",
    "### FOR LOOPS\n",
    "\n",
    "\n",
    "1) take your dictionary from above. and instead turn all of the keys to uppercase, using a for loop.\n",
    "\n",
    "*hint - you can't change a dictionary while it is in the middle of a for-loop. How can you get around this?*\n",
    "\n",
    "\n"
   ]
  },
  {
   "cell_type": "code",
   "execution_count": 28,
   "metadata": {},
   "outputs": [
    {
     "name": "stdout",
     "output_type": "stream",
     "text": [
      "SUNDAY\n",
      "MONDAY\n",
      "TUESDAY\n"
     ]
    }
   ],
   "source": [
    "# your code here\n",
    "my_dict = {\"Sunday\":1, \"Monday\":2, \"Tuesday\":3 }\n",
    "\n",
    "for key in my_dict:\n",
    "    key.upper()\n",
    "    print(key.upper())"
   ]
  },
  {
   "cell_type": "markdown",
   "metadata": {},
   "source": [
    "2) Create a list containing all of the keys in the dictionary that have the letter \"r\"\n"
   ]
  },
  {
   "cell_type": "code",
   "execution_count": null,
   "metadata": {},
   "outputs": [],
   "source": [
    "# your code here"
   ]
  },
  {
   "cell_type": "markdown",
   "metadata": {},
   "source": [
    "<br>"
   ]
  },
  {
   "cell_type": "markdown",
   "metadata": {},
   "source": [
    "## <font color='#9531A9'> Challenge! (Super Optional)  </font>\n",
    "\n",
    "In this mini project, your goal is to take in a list of corporate emails and output contact cards for each employee (i.e. 'Mr T works at Ateam'). Don't worry if this seems hard, it's a challenge for a reason - try your best and don't be afraid to google if you're stuck! Here's the data you'll be working with:"
   ]
  },
  {
   "cell_type": "code",
   "execution_count": 113,
   "metadata": {},
   "outputs": [
    {
     "name": "stdout",
     "output_type": "stream",
     "text": [
      "Taryn Morris works at Ixperience\n",
      "Connor Lawless works at Ixperience\n",
      "Mr T works at Ateam\n",
      "Baby Spice works at Spicegirls\n",
      "Scary Spice works at Spicegirls\n",
      "Kermit Frog works at Muppets\n"
     ]
    }
   ],
   "source": [
    "emails = ['taryn.morris@ixperience.co', \n",
    "          'connor.lawless@ixperience.co', \n",
    "          'mr.t@ateam.org',\n",
    "          'baby.spice@spicegirls.com',\n",
    "          'scary.spice@spicegirls.com',\n",
    "          'kermit.frog@muppets.org']\n",
    "first_name = [] # a list containing the 1st names of the employers \n",
    "second_name = [] # a list containing the 2nd names of the employers\n",
    "other = [] \n",
    "company_name = [] # a list containing the company of the employers\n",
    "for email in emails:\n",
    "    first_name.append(email.split(\".\")[0])\n",
    "    other.append(email.split(\".\")[1])\n",
    "for mail in other:\n",
    "    second_name.append(mail.split(\"@\")[0])\n",
    "    company_name.append(mail.split(\"@\")[1])\n",
    "\n",
    "counter = 0\n",
    "# prints all the names of the. employees \n",
    "while counter < 6:\n",
    "    print(f\"{first_name[counter].capitalize()} {second_name[counter].capitalize()} works at {company_name[counter].capitalize()}\")\n",
    "    counter+= 1 \n",
    "   "
   ]
  },
  {
   "cell_type": "markdown",
   "metadata": {},
   "source": [
    "There are multiple ways to go about doing this, but the high-level steps you should think about are:\n",
    "<ul>\n",
    "    <li> Extracting each employee's first name, last name and company from the e-mail (maybe with a function) </li>\n",
    "    <li> Store the details in a data structure of your choice </li>\n",
    "    <li> Print out the details </li>\n",
    "</ul>\n",
    "\n",
    "Good luck - remember part of the fun of coding is playing around with this! Some fun extensions could include printing out all the employees that work at the same company, trying out different ways of storing all the details (it's a great chance to play around with different data types we learned!), or try adding a different format of email (i.e. trudeau@canada.gov) and seeing how you can change your code to handle it."
   ]
  },
  {
   "cell_type": "markdown",
   "metadata": {},
   "source": [
    "# Save and upload this notebook via this google [form](https://docs.google.com/forms/d/e/1FAIpQLSd4CxzynGHj-McPengtREgRiB7jAEogo9_g8XpRU9pQmHIlxw/viewform)"
   ]
  },
  {
   "cell_type": "code",
   "execution_count": null,
   "metadata": {},
   "outputs": [],
   "source": []
  }
 ],
 "metadata": {
  "kernelspec": {
   "display_name": "Python 3",
   "language": "python",
   "name": "python3"
  },
  "language_info": {
   "codemirror_mode": {
    "name": "ipython",
    "version": 3
   },
   "file_extension": ".py",
   "mimetype": "text/x-python",
   "name": "python",
   "nbconvert_exporter": "python",
   "pygments_lexer": "ipython3",
   "version": "3.7.4"
  }
 },
 "nbformat": 4,
 "nbformat_minor": 4
}
